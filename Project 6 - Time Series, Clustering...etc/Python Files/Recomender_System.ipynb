{
 "cells": [
  {
   "cell_type": "markdown",
   "id": "de511b61",
   "metadata": {},
   "source": [
    "# Christian Campbell"
   ]
  },
  {
   "cell_type": "markdown",
   "id": "540b14df",
   "metadata": {},
   "source": [
    "# Recommender System"
   ]
  },
  {
   "cell_type": "code",
   "execution_count": 1,
   "id": "e23cb80e",
   "metadata": {},
   "outputs": [],
   "source": [
    "import numpy as np\n",
    "import pandas as pd\n",
    "import matplotlib.pyplot as plt\n",
    "import seaborn as sns\n",
    "from sklearn.metrics.pairwise import cosine_similarity\n",
    "from sklearn.feature_extraction.text import CountVectorizer\n",
    "import random"
   ]
  },
  {
   "cell_type": "code",
   "execution_count": 2,
   "id": "bf674b22",
   "metadata": {
    "scrolled": true
   },
   "outputs": [
    {
     "data": {
      "text/html": [
       "<div>\n",
       "<style scoped>\n",
       "    .dataframe tbody tr th:only-of-type {\n",
       "        vertical-align: middle;\n",
       "    }\n",
       "\n",
       "    .dataframe tbody tr th {\n",
       "        vertical-align: top;\n",
       "    }\n",
       "\n",
       "    .dataframe thead th {\n",
       "        text-align: right;\n",
       "    }\n",
       "</style>\n",
       "<table border=\"1\" class=\"dataframe\">\n",
       "  <thead>\n",
       "    <tr style=\"text-align: right;\">\n",
       "      <th></th>\n",
       "      <th>movieId</th>\n",
       "      <th>title</th>\n",
       "      <th>genres</th>\n",
       "    </tr>\n",
       "  </thead>\n",
       "  <tbody>\n",
       "    <tr>\n",
       "      <th>0</th>\n",
       "      <td>1</td>\n",
       "      <td>Toy Story (1995)</td>\n",
       "      <td>Adventure|Animation|Children|Comedy|Fantasy</td>\n",
       "    </tr>\n",
       "    <tr>\n",
       "      <th>1</th>\n",
       "      <td>2</td>\n",
       "      <td>Jumanji (1995)</td>\n",
       "      <td>Adventure|Children|Fantasy</td>\n",
       "    </tr>\n",
       "    <tr>\n",
       "      <th>2</th>\n",
       "      <td>3</td>\n",
       "      <td>Grumpier Old Men (1995)</td>\n",
       "      <td>Comedy|Romance</td>\n",
       "    </tr>\n",
       "    <tr>\n",
       "      <th>3</th>\n",
       "      <td>4</td>\n",
       "      <td>Waiting to Exhale (1995)</td>\n",
       "      <td>Comedy|Drama|Romance</td>\n",
       "    </tr>\n",
       "    <tr>\n",
       "      <th>4</th>\n",
       "      <td>5</td>\n",
       "      <td>Father of the Bride Part II (1995)</td>\n",
       "      <td>Comedy</td>\n",
       "    </tr>\n",
       "  </tbody>\n",
       "</table>\n",
       "</div>"
      ],
      "text/plain": [
       "   movieId                               title  \\\n",
       "0        1                    Toy Story (1995)   \n",
       "1        2                      Jumanji (1995)   \n",
       "2        3             Grumpier Old Men (1995)   \n",
       "3        4            Waiting to Exhale (1995)   \n",
       "4        5  Father of the Bride Part II (1995)   \n",
       "\n",
       "                                        genres  \n",
       "0  Adventure|Animation|Children|Comedy|Fantasy  \n",
       "1                   Adventure|Children|Fantasy  \n",
       "2                               Comedy|Romance  \n",
       "3                         Comedy|Drama|Romance  \n",
       "4                                       Comedy  "
      ]
     },
     "execution_count": 2,
     "metadata": {},
     "output_type": "execute_result"
    }
   ],
   "source": [
    "path = r\"C:\\Users\\chris\\Documents\\Bellevue University\\7 - Predictive Analytics\\movies.csv\"\n",
    "movies = pd.read_csv(path)\n",
    "movies.head()"
   ]
  },
  {
   "cell_type": "code",
   "execution_count": 3,
   "id": "223254b2",
   "metadata": {},
   "outputs": [],
   "source": [
    "# Extracts the year and cleans the title\n",
    "movies['year'] = movies['title'].str.extract(r'\\((\\d{4})\\)', expand=False)\n",
    "movies['title'] = movies['title'].str.replace(r'\\(\\d{4}\\)', '', regex=True).str.strip()\n",
    "\n",
    "# Converts genres to a string\n",
    "movies['genres_str'] = movies['genres'].str.replace('|', ' ')\n",
    "\n",
    "# Creates a count vectorizer and computes the cosine similarity matrix\n",
    "count_matrix = CountVectorizer().fit_transform(movies['genres_str'])\n",
    "cosine_sim = cosine_similarity(count_matrix, count_matrix)\n",
    "\n",
    "# Functions to get recommendations\n",
    "def get_index_from_title(title):\n",
    "    return movies[movies['title'].str.contains(title, case=False)].index[0]\n",
    "\n",
    "def get_recommendations(title, num_recommendations=10):\n",
    "    movie_index = get_index_from_title(title)\n",
    "    similarity_scores = list(enumerate(cosine_sim[movie_index]))\n",
    "    similarity_scores = sorted(similarity_scores, key=lambda x: x[1], reverse=True)[1:]\n",
    "    random.shuffle(similarity_scores)\n",
    "    movie_indices = [i[0] for i in similarity_scores[:num_recommendations]]\n",
    "    return movies['title'].iloc[movie_indices]\n",
    "\n",
    "# Recommender system function\n",
    "def movie_recommender_system(movie_title, num_recommendations=10):\n",
    "    try:\n",
    "        recommendations = get_recommendations(movie_title, num_recommendations)\n",
    "        return recommendations\n",
    "    except IndexError:\n",
    "        return \"Movie not found in the dataset. Please check the title and try again.\""
   ]
  },
  {
   "cell_type": "code",
   "execution_count": 8,
   "id": "69452075",
   "metadata": {},
   "outputs": [
    {
     "name": "stdout",
     "output_type": "stream",
     "text": [
      "Recommendations for 'Casper':\n",
      "455            Robin Hood: Men in Tights\n",
      "7406                         Jackass 2.5\n",
      "4641                                 Elf\n",
      "1604                     St. Elmo's Fire\n",
      "6287    Wind That Shakes the Barley, The\n",
      "4786                      Spring Forward\n",
      "5260                        Spider-Man 2\n",
      "8128                         Mezzo Forte\n",
      "2541                        Turtle Diary\n",
      "1623                               Blade\n",
      "Name: title, dtype: object\n"
     ]
    }
   ],
   "source": [
    "# Code for the recommender system\n",
    "user_input = 'Casper'\n",
    "print(f\"Recommendations for '{user_input}':\")\n",
    "print(movie_recommender_system(user_input))"
   ]
  },
  {
   "cell_type": "code",
   "execution_count": null,
   "id": "07696aa2",
   "metadata": {},
   "outputs": [],
   "source": []
  }
 ],
 "metadata": {
  "kernelspec": {
   "display_name": "Python 3 (ipykernel)",
   "language": "python",
   "name": "python3"
  },
  "language_info": {
   "codemirror_mode": {
    "name": "ipython",
    "version": 3
   },
   "file_extension": ".py",
   "mimetype": "text/x-python",
   "name": "python",
   "nbconvert_exporter": "python",
   "pygments_lexer": "ipython3",
   "version": "3.11.7"
  }
 },
 "nbformat": 4,
 "nbformat_minor": 5
}
